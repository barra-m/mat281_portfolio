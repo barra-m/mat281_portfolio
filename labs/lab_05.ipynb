{
 "cells": [
  {
   "cell_type": "markdown",
   "metadata": {},
   "source": [
    "# MAT281 - Laboratorio N°05\n",
    "\n"
   ]
  },
  {
   "cell_type": "markdown",
   "metadata": {},
   "source": [
    "## Problema 01\n",
    "\n",
    "<img src=\"http://nelsoncos.com/wp-content/uploads/2017/02/sales-icon.png\" width=\"360\" height=\"360\" align=\"center\"/>\n",
    "\n",
    "\n",
    "EL conjunto de datos se denomina `company_sales_data.csv`, el cual contiene información tal como: número del mes, unidades, precio, etc.\n",
    "\n",
    "Lo primero es cargar el conjunto de datos y ver las primeras filas que lo componen:"
   ]
  },
  {
   "cell_type": "code",
   "execution_count": null,
   "metadata": {},
   "outputs": [],
   "source": [
    "import pandas as pd\n",
    "import os\n",
    "import seaborn as sns\n",
    "import matplotlib.pyplot as plt\n",
    "\n",
    "sns.set(rc={'figure.figsize':(10,8)})"
   ]
  },
  {
   "cell_type": "code",
   "execution_count": null,
   "metadata": {},
   "outputs": [],
   "source": [
    "# cargar datos\n",
    "df = pd.read_csv(os.path.join(\"data\",\"company_sales_data.csv\"))\n",
    "df.head()"
   ]
  },
  {
   "cell_type": "markdown",
   "metadata": {},
   "source": [
    "El objetivo es tratar de obtener la mayor información posible de este conjunto de datos. Para cumplir este objetivo debe resolver las siguientes problemáticas:\n",
    "\n",
    "**Observación.-** Puedes ocupar las librerías de Matplolib o Seaborn."
   ]
  },
  {
   "cell_type": "markdown",
   "metadata": {},
   "source": [
    "1. Lea el \"total_profit\" de todos los meses, muéstrelo usando un gráfico lineal y un gráfico de dispersión."
   ]
  },
  {
   "cell_type": "code",
   "execution_count": null,
   "metadata": {},
   "outputs": [],
   "source": [
    "#matplotlib\n",
    "x = df['month_number']\n",
    "y = df['total_profit']\n",
    "fig = plt.figure(figsize=(15,5))\n",
    "#lineas\n",
    "plt.subplot(1,2,1)\n",
    "plt.plot(x, \n",
    "         y, \n",
    "         color = \"red\", \n",
    "         linewidth = 1\n",
    ")\n",
    "plt.title(\"Ganancial total mensual: Linear plot\")\n",
    "plt.xlabel('month_number')\n",
    "plt.ylabel('total_profit')\n",
    "#dispersion\n",
    "plt.subplot(1,2,2)\n",
    "plt.scatter(x, \n",
    "            y, \n",
    "            color = \"red\", \n",
    "            linewidth = 1\n",
    ")\n",
    "plt.title(\"Ganancia total mensual: Scatter plot\") \n",
    "plt.xlabel('month_number')\n",
    "plt.ylabel('total_profit') \n",
    "plt.show()"
   ]
  },
  {
   "cell_type": "code",
   "execution_count": null,
   "metadata": {},
   "outputs": [],
   "source": [
    "#seaborn\n",
    "fig,ejes = plt.subplots(1,2,figsize=(15,5))\n",
    "#lineas\n",
    "sns.lineplot(x = 'month_number',\n",
    "    y = 'total_profit',\n",
    "    data = df,\n",
    "    ax = ejes[0]\n",
    ")\n",
    "ejes[0].set_title(\"Ganancia total mensual: Linear plot\")\n",
    "#dispersion\n",
    "sns.scatterplot(\n",
    "    x = 'month_number',\n",
    "    y = 'total_profit',\n",
    "    data = df,\n",
    "    ax = ejes[1]\n",
    ")\n",
    "ejes[1].set_title(\"Ganancia total mensual: Scatter plot\")"
   ]
  },
  {
   "cell_type": "markdown",
   "metadata": {},
   "source": [
    "2. Lea todos los datos de ventas de productos y muéstrelos utilizando un gráfico multilínea."
   ]
  },
  {
   "cell_type": "code",
   "execution_count": null,
   "metadata": {},
   "outputs": [],
   "source": [
    "#se entendió que 'datos de ventas' se refiere a la cantidad de productos vendidos cada mes \n",
    "#se despivotea un sub-dataframe con los meses y cantidad de productos vendidos, con respecto a 'month_number'\n",
    "productos = df[df.columns[0:7]] #obtener el sub-dataframe\n",
    "productos = productos.melt(\n",
    "    id_vars = ['month_number'], \n",
    "    var_name = 'producto', \n",
    "    value_name = 'venta_mensual'\n",
    ") #despivotear\n",
    "productos"
   ]
  },
  {
   "cell_type": "code",
   "execution_count": null,
   "metadata": {},
   "outputs": [],
   "source": [
    "#notar que la columna de ventas para 'facewash' y 'moisturizer' tienen iguales valores por lo que en el \n",
    "#grafico se visualizan dos curvas identicas\n",
    "df.filter(items=['month_number','facewash','moisturizer'])"
   ]
  },
  {
   "cell_type": "code",
   "execution_count": null,
   "metadata": {},
   "outputs": [],
   "source": [
    "palette = sns.color_palette(\"hls\", 6)\n",
    "sns.lineplot(\n",
    "    x = 'month_number',\n",
    "    y = 'venta_mensual',\n",
    "    hue ='producto',\n",
    "    data = productos,\n",
    "    palette = palette,\n",
    "    style ='producto'\n",
    ")\n",
    "c = plt.title(\"Venta Mensual de Productos\",size = 16)"
   ]
  },
  {
   "cell_type": "markdown",
   "metadata": {},
   "source": [
    "3. Lea los datos de ventas de productos de \"facecream\" y \"facewash\" y muéstrelos usando el gráfico de barras."
   ]
  },
  {
   "cell_type": "code",
   "execution_count": null,
   "metadata": {},
   "outputs": [],
   "source": [
    "productos = df.filter(items=['month_number','facecream','facewash']) #obtener subdataframe\n",
    "productos = productos.melt( #despivotear\n",
    "    id_vars = ['month_number'], \n",
    "    var_name = 'producto', \n",
    "    value_name = 'venta_mensual'\n",
    ") \n",
    "productos"
   ]
  },
  {
   "cell_type": "code",
   "execution_count": null,
   "metadata": {},
   "outputs": [],
   "source": [
    "palette = sns.color_palette(\"hls\", 2)\n",
    "sns.barplot(\n",
    "    x = 'month_number',\n",
    "    y = 'venta_mensual',\n",
    "    hue = 'producto', \n",
    "    data = productos,\n",
    "    palette = palette\n",
    ")\n",
    "c = plt.title(\"Venta Mensual de facecream y facewash\",size = 16)"
   ]
  },
  {
   "cell_type": "markdown",
   "metadata": {},
   "source": [
    "4. Lea todos los datos de ventas de productos y muéstrelos utilizando un gráfico box-plot."
   ]
  },
  {
   "cell_type": "code",
   "execution_count": null,
   "metadata": {},
   "outputs": [],
   "source": [
    "productos = df.drop(['month_number', 'total_units','total_profit'], axis=1) #obtener subdataframe\n",
    "productos"
   ]
  },
  {
   "cell_type": "code",
   "execution_count": null,
   "metadata": {},
   "outputs": [],
   "source": [
    "sns.set(rc={'figure.figsize':(10,6)})\n",
    "palette = sns.color_palette(\"hls\", 6)\n",
    "sns.boxplot(\n",
    "    data = productos,\n",
    "    palette = palette  \n",
    ")\n",
    "a = plt.ylabel(\"cantidad vendida\")\n",
    "b = plt.xlabel(\"productos\")\n",
    "c = plt.title(\"Venta Mensual de Productos\",size = 16)"
   ]
  },
  {
   "cell_type": "markdown",
   "metadata": {},
   "source": [
    "5. Calcule los datos de ventas totales del año pasado para cada producto y muéstrelos usando un gráfico circular"
   ]
  },
  {
   "cell_type": "code",
   "execution_count": null,
   "metadata": {},
   "outputs": [],
   "source": [
    "productos = df[df.columns[0:7]] #obtener el sub-dataframe\n",
    "productos = productos.melt( #despivotear\n",
    "    id_vars = ['month_number'], \n",
    "    var_name = 'producto', \n",
    "    value_name = 'venta_mensual'\n",
    ") \n",
    "grupo = productos.drop(['month_number'],axis=1).groupby('producto').sum() #agrupar por producto y sumar total ventas \n",
    "grupo = grupo.rename(columns={'venta_mensual':'venta_total'})\n",
    "grupo"
   ]
  },
  {
   "cell_type": "code",
   "execution_count": null,
   "metadata": {},
   "outputs": [],
   "source": [
    "datos = grupo['venta_total']\n",
    "etiquetas = grupo.index\n",
    "grafico_circular = plt.pie(\n",
    "    datos,\n",
    "    labels = etiquetas,\n",
    "    autopct='%1.1f%%', \n",
    "    startangle = 180,\n",
    "    colors = palette\n",
    ")\n",
    "a = plt.axis('equal')\n",
    "b = plt.title('Ventas totales de productos del año pasado', size = 16)"
   ]
  },
  {
   "cell_type": "code",
   "execution_count": null,
   "metadata": {},
   "outputs": [],
   "source": []
  }
 ],
 "metadata": {
  "kernelspec": {
   "display_name": "Python 3",
   "language": "python",
   "name": "python3"
  },
  "language_info": {
   "codemirror_mode": {
    "name": "ipython",
    "version": 3
   },
   "file_extension": ".py",
   "mimetype": "text/x-python",
   "name": "python",
   "nbconvert_exporter": "python",
   "pygments_lexer": "ipython3",
   "version": "3.7.10"
  }
 },
 "nbformat": 4,
 "nbformat_minor": 4
}
