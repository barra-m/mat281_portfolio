{
 "cells": [
  {
   "cell_type": "markdown",
   "metadata": {},
   "source": [
    "# MAT281 - Laboratorio N°04\n",
    "\n",
    "<a id='p1'></a>\n",
    "\n",
    "## Problema 01\n",
    "\n",
    "En la carpeta data se encuentra el archivo `nba.db`, el cual muestra informacion básica de algunos jugadores de la NBA.\n",
    "\n",
    "<img src=\"https://encrypted-tbn0.gstatic.com/images?q=tbn:ANd9GcQHCVR_4gPOmYYGglSV0rT1WlJtgRGnIw6Z6G68PTY1r_Qunv-6C3BDIa3jnStoNvdgcEE&usqp=CAU\" align=\"center\"/>\n",
    "\n"
   ]
  },
  {
   "cell_type": "code",
   "execution_count": null,
   "metadata": {},
   "outputs": [],
   "source": [
    "from sqlalchemy import create_engine\n",
    "import pandas as pd\n",
    "import os  \n",
    "\n",
    "# Crear conector\n",
    "conn = create_engine(os.path.join('sqlite:///','data', 'nba.db'))\n"
   ]
  },
  {
   "cell_type": "code",
   "execution_count": null,
   "metadata": {},
   "outputs": [],
   "source": [
    "# funcion de consultas\n",
    "def consulta(query,conn):\n",
    "    return pd.read_sql_query(query, con=conn)"
   ]
  },
  {
   "cell_type": "code",
   "execution_count": null,
   "metadata": {},
   "outputs": [],
   "source": [
    "# ejemplo\n",
    "query = \"\"\"\n",
    "SELECT * FROM player\n",
    "\"\"\"\n",
    "consulta(query,conn)"
   ]
  },
  {
   "cell_type": "markdown",
   "metadata": {},
   "source": [
    "El objetivo es tratar de obtener la mayor información posible de este conjunto de datos mediante código **SQL**. Para cumplir con este objetivo debe resolver las siguientes problemáticas:"
   ]
  },
  {
   "cell_type": "markdown",
   "metadata": {},
   "source": [
    "1. Mostrar las primeras 5 filas"
   ]
  },
  {
   "cell_type": "code",
   "execution_count": null,
   "metadata": {},
   "outputs": [],
   "source": [
    "query = \"\"\"\n",
    "SELECT * FROM player LIMIT 5\n",
    "\"\"\"\n",
    "consulta(query,conn)"
   ]
  },
  {
   "cell_type": "markdown",
   "metadata": {},
   "source": [
    "2. Seleccionar los valores únicos de la columna `position`."
   ]
  },
  {
   "cell_type": "code",
   "execution_count": null,
   "metadata": {},
   "outputs": [],
   "source": [
    "query = \"\"\"\n",
    "SELECT DISTINCT position FROM player\n",
    "\"\"\"\n",
    "consulta(query,conn)"
   ]
  },
  {
   "cell_type": "markdown",
   "metadata": {},
   "source": [
    "3. Seleccionar y cambiar el nombre de la columna `name` por `nombre` "
   ]
  },
  {
   "cell_type": "code",
   "execution_count": null,
   "metadata": {},
   "outputs": [],
   "source": [
    "query = \"\"\"\n",
    "SELECT name as nombre FROM player \n",
    "\"\"\"\n",
    "consulta(query,conn)"
   ]
  },
  {
   "cell_type": "markdown",
   "metadata": {},
   "source": [
    "4. Determinar el tiempo (en años) de cada jugador en su posición"
   ]
  },
  {
   "cell_type": "code",
   "execution_count": null,
   "metadata": {},
   "outputs": [],
   "source": [
    "#se determina que cada jugador juega (year_end-year_start) años\n",
    "query = \"\"\"\n",
    "SELECT name, position, (year_end-year_start)\n",
    "FROM player\n",
    "\"\"\"\n",
    "consulta(query,conn)"
   ]
  },
  {
   "cell_type": "markdown",
   "metadata": {},
   "source": [
    "5. Encontrar el valor máximo de la columna `weight` por cada  valor de la columna `position`"
   ]
  },
  {
   "cell_type": "code",
   "execution_count": null,
   "metadata": {},
   "outputs": [],
   "source": [
    "query = \"\"\"\n",
    "SELECT position, MAX(weight) FROM player GROUP BY position\n",
    "\"\"\"\n",
    "consulta(query,conn)"
   ]
  },
  {
   "cell_type": "markdown",
   "metadata": {},
   "source": [
    "6. Encontrar el total de jugadores por cada valor de la columna `year_start`"
   ]
  },
  {
   "cell_type": "code",
   "execution_count": null,
   "metadata": {},
   "outputs": [],
   "source": [
    "query = \"\"\"\n",
    "SELECT year_start, COUNT(name) FROM player GROUP BY year_start\n",
    "\"\"\"\n",
    "consulta(query,conn)"
   ]
  },
  {
   "cell_type": "markdown",
   "metadata": {},
   "source": [
    "7. Encontrar el valor mínimo, máximo y promedio de la columna `weight` por cada valor de la columnas `college`"
   ]
  },
  {
   "cell_type": "code",
   "execution_count": null,
   "metadata": {},
   "outputs": [],
   "source": [
    "query = \"\"\"\n",
    "SELECT college, MAX(weight), AVG(weight) FROM player GROUP BY college\n",
    "\"\"\"\n",
    "consulta(query,conn)"
   ]
  },
  {
   "cell_type": "markdown",
   "metadata": {},
   "source": [
    "8. Filtrar por aquellos jugadores que cumplan con :\n",
    "* Para la columna `year_start` tienen un valor mayor 1990 y menor a 2000\n",
    "* Para la columna `position` tienen un valor de `C`,`C-F` o `F-C`\n",
    "* Para la columna `college` tienen un valor distinto de `Duke University`\n"
   ]
  },
  {
   "cell_type": "code",
   "execution_count": null,
   "metadata": {},
   "outputs": [],
   "source": [
    "query = \"\"\"\n",
    "SELECT * FROM player\n",
    "WHERE year_start BETWEEN 1990 AND 2000\n",
    "AND position LIKE '%C%'\n",
    "AND NOT college = 'Duke University';\n",
    "\"\"\"\n",
    "consulta(query,conn)"
   ]
  },
  {
   "cell_type": "markdown",
   "metadata": {},
   "source": [
    "9. Crear dos conjuntos de datos y juntarlos en una misma *query*. Las condiciones de cada uno de los cojunto de datos son:\n",
    "\n",
    "* **df1**:\n",
    "    * Para la columna `year_start` tienen un valor mayor 1990 y menor a 2000\n",
    "    * Para la columna `position` tienen un valor de `C`,`C-F` o `F-C`\n",
    "   \n",
    "* **df2**:\n",
    "    * Para la columna `year_end` tienen un valor menor a 2000\n",
    "    * Para la columna `position` tienen un valor de `G`o `F` "
   ]
  },
  {
   "cell_type": "code",
   "execution_count": null,
   "metadata": {},
   "outputs": [],
   "source": [
    "query = \"\"\"\n",
    "SELECT * FROM player AS df1 \n",
    "WHERE df1.year_start BETWEEN 1990 AND 2000\n",
    "AND df1.position LIKE '%C%'\n",
    "UNION\n",
    "SELECT * FROM player AS df2 \n",
    "WHERE df2.year_end <=2000\n",
    "AND (df2.position = 'F' OR df2.position = 'G')\n",
    "\"\"\"\n",
    "consulta(query,conn)"
   ]
  }
 ],
 "metadata": {
  "kernelspec": {
   "display_name": "Python 3",
   "language": "python",
   "name": "python3"
  },
  "language_info": {
   "codemirror_mode": {
    "name": "ipython",
    "version": 3
   },
   "file_extension": ".py",
   "mimetype": "text/x-python",
   "name": "python",
   "nbconvert_exporter": "python",
   "pygments_lexer": "ipython3",
   "version": "3.7.10"
  }
 },
 "nbformat": 4,
 "nbformat_minor": 5
}
