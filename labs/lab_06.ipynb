{
 "cells": [
  {
   "cell_type": "markdown",
   "metadata": {},
   "source": [
    "# MAT281 - Laboratorio N°06\n",
    "\n"
   ]
  },
  {
   "cell_type": "markdown",
   "metadata": {},
   "source": [
    "## Problema 01\n",
    "<img src=\"./images/logo_iris.jpg\" width=\"360\" height=\"360\" align=\"center\"/>"
   ]
  },
  {
   "cell_type": "markdown",
   "metadata": {},
   "source": [
    "El **Iris dataset** es un conjunto de datos que contine una  muestras de tres especies de Iris (Iris setosa, Iris virginica e Iris versicolor). Se midió cuatro rasgos de cada muestra: el largo y ancho del sépalo y pétalo, en centímetros.\n",
    "\n",
    "Lo primero es cargar el conjunto de datos y ver las primeras filas que lo componen:"
   ]
  },
  {
   "cell_type": "code",
   "execution_count": null,
   "metadata": {},
   "outputs": [],
   "source": [
    "# librerias\n",
    " \n",
    "import os\n",
    "import numpy as np\n",
    "import pandas as pd\n",
    "\n",
    "import matplotlib.pyplot as plt\n",
    "import seaborn as sns \n",
    "pd.set_option('display.max_columns', 500)  # Ver más columnas de los dataframes\n",
    "\n",
    "\n",
    "# Ver gráficos de matplotlib en jupyter notebook/lab\n",
    "%matplotlib inline"
   ]
  },
  {
   "cell_type": "code",
   "execution_count": null,
   "metadata": {},
   "outputs": [],
   "source": [
    "# cargar datos\n",
    "df = pd.read_csv(os.path.join(\"data\",\"iris_contaminados.csv\"))\n",
    "df.columns = ['sepalLength',\n",
    "                  'sepalWidth',\n",
    "                  'petalLength',\n",
    "                  'petalWidth',\n",
    "                  'species']\n",
    "\n",
    "df.head() "
   ]
  },
  {
   "cell_type": "markdown",
   "metadata": {},
   "source": [
    "### Bases del experimento\n",
    "\n",
    "Lo primero es identificar las variables que influyen en el estudio y la naturaleza de esta.\n",
    "\n",
    "* **species**: \n",
    "    * Descripción: Nombre de la especie de Iris. \n",
    "    * Tipo de dato: *string*\n",
    "    * Limitantes: solo existen tres tipos (setosa, virginia y versicolor).\n",
    "* **sepalLength**: \n",
    "    * Descripción: largo del sépalo. \n",
    "    * Tipo de dato: *integer*. \n",
    "    * Limitantes: los valores se encuentran entre 4.0 y 7.0 cm.\n",
    "* **sepalWidth**: \n",
    "    * Descripción: ancho del sépalo. \n",
    "    * Tipo de dato: *integer*. \n",
    "    * Limitantes: los valores se encuentran entre 2.0 y 4.5 cm.\n",
    "* **petalLength**: \n",
    "    * Descripción: largo del pétalo. \n",
    "    * Tipo de dato: *integer*. \n",
    "    * Limitantes: los valores se encuentran entre 1.0 y 7.0 cm.\n",
    "* **petalWidth**: \n",
    "    * Descripción: ancho del pépalo. \n",
    "    * Tipo de dato: *integer*. \n",
    "    * Limitantes: los valores se encuentran entre 0.1 y 2.5 cm."
   ]
  },
  {
   "cell_type": "markdown",
   "metadata": {},
   "source": [
    "Su objetivo es realizar un correcto **E.D.A.**, para esto debe seguir las siguientes intrucciones:"
   ]
  },
  {
   "cell_type": "markdown",
   "metadata": {},
   "source": [
    "1. Realizar un conteo de elementos de la columna **species** y corregir según su criterio. Reemplace por \"default\" los valores nan.."
   ]
  },
  {
   "cell_type": "code",
   "execution_count": null,
   "metadata": {},
   "outputs": [],
   "source": [
    "# normalizar datos en columna 'species' y reemplazar valores nan por 'default'\n",
    "df['species'] = df['species'].str.lower().str.strip().fillna('default')\n",
    "df"
   ]
  },
  {
   "cell_type": "code",
   "execution_count": null,
   "metadata": {},
   "outputs": [],
   "source": [
    "# conteo de datos diferentes en esta columna\n",
    "print(df['species'].unique())\n",
    "grupo = df.groupby('species')\n",
    "grupo = grupo[['sepalLength']].count().reset_index() #se elige cualquier otra columna para contar\n",
    "grupo = grupo.rename(columns={'sepalLength':'cantidad'})\n",
    "grupo"
   ]
  },
  {
   "cell_type": "markdown",
   "metadata": {},
   "source": [
    "2. Realizar un gráfico de box-plot sobre el largo y ancho de los petalos y sépalos. Reemplace por **0** los valores nan."
   ]
  },
  {
   "cell_type": "code",
   "execution_count": null,
   "metadata": {},
   "outputs": [],
   "source": [
    "# conteo de datos diferentes en esta columna\n",
    "# cambiar valores nan por cero\n",
    "df = df.fillna(0)\n",
    "# crear nuevo dataframe para graficar eliminando la columna 'species'\n",
    "datos = df.drop('species',axis=1)\n",
    "\n",
    "sns.set(rc={'figure.figsize':(10,6)})\n",
    "palette = sns.color_palette(\"hls\", 4)\n",
    "sns.boxplot(\n",
    "    data = datos,\n",
    "    palette = palette  \n",
    ")\n",
    "a = plt.ylabel(\"tamaño [cm]\")\n",
    "c = plt.title(\"Dimensiones de pétalos y sépalos\",size = 16)"
   ]
  },
  {
   "cell_type": "markdown",
   "metadata": {},
   "source": [
    "3. Anteriormente se define un rango de valores válidos para los valores del largo y ancho de los petalos y sépalos. Agregue una columna denominada **label**  que identifique cuál de estos valores esta fuera del rango de valores válidos."
   ]
  },
  {
   "cell_type": "code",
   "execution_count": null,
   "metadata": {},
   "outputs": [],
   "source": [
    "# se preparan los filtros \n",
    "# largo de cépalos\n",
    "mask_sepLen_inf = df['sepalLength']>=4.0\n",
    "mask_sepLen_sup = df['sepalLength']<=7.0\n",
    "mask_sepLen = mask_sepLen_inf & mask_sepLen_sup\n",
    "# ancho de cépalos\n",
    "mask_sepWid_inf = df['sepalWidth']>=2.0\n",
    "mask_sepWid_sup = df['sepalWidth']<=4.5\n",
    "mask_sepWid = mask_sepWid_inf & mask_sepWid_sup\n",
    "# largo de pétalos\n",
    "mask_petLen_inf = df['petalLength']>=1.0\n",
    "mask_petLen_sup = df['petalLength']<=7.0\n",
    "mask_petLen = mask_petLen_inf & mask_petLen_sup\n",
    "#ancho de pétalos\n",
    "mask_petWid_inf = df['petalWidth']>=0.1\n",
    "mask_petWid_sup = df['petalWidth']<=2.5\n",
    "mask_petWid = mask_petWid_inf & mask_petWid_sup\n",
    "\n",
    "# crear filtro final\n",
    "mask = mask_sepLen & mask_sepWid & mask_petLen & mask_petWid\n",
    "df_filt = df\n",
    "# crear nueva columna\n",
    "df_filt.loc[:,'label'] = 'fuera de rango'\n",
    "# identificar los datos validos\n",
    "df_filt.loc[mask,'label'] = 'valido'\n",
    "df_filt.head()"
   ]
  },
  {
   "cell_type": "markdown",
   "metadata": {},
   "source": [
    "4. Realice un gráfico de *sepalLength* vs *petalLength* y otro de *sepalWidth* vs *petalWidth* categorizados por la etiqueta **label**. Concluya sus resultados."
   ]
  },
  {
   "cell_type": "code",
   "execution_count": null,
   "metadata": {},
   "outputs": [],
   "source": [
    "palette = sns.color_palette(\"hls\", 2)\n",
    "\n",
    "sns.scatterplot(\n",
    "    x='sepalLength',\n",
    "    y='petalLength',\n",
    "    hue='label',\n",
    "    data=df_filt,\n",
    "    ci = None,\n",
    "    palette=palette\n",
    ")\n",
    "c = plt.title(\"Largo de sépalos vs Largo de pétalos (cm)\",size = 16)\n",
    "\n"
   ]
  },
  {
   "cell_type": "code",
   "execution_count": null,
   "metadata": {},
   "outputs": [],
   "source": [
    "palette = sns.color_palette(\"hls\", 2)\n",
    "\n",
    "sns.scatterplot(\n",
    "    x='sepalWidth',\n",
    "    y='petalWidth',\n",
    "    hue='label',\n",
    "    data=df_filt,\n",
    "    ci = None,\n",
    "    palette=palette\n",
    ")\n",
    "c = plt.title(\"Ancho de sépalos vs Ancho de pétalos (cm)\",size = 16)"
   ]
  },
  {
   "cell_type": "markdown",
   "metadata": {},
   "source": [
    "Existen al menos dos tendencias marcadas en cuanto a los pares ordenados (dim sépalos, dim pétalos) para ambas dimensiones (ancho y largo). Se podría especular que dichas magnitudes dependen de la especie de iris a la que pertenece. Los datos fuera de rango dan a pensar que se sigue la tendencia en el caso del gráfico de ancho de sépalos vs ancho de pétalos. (Recordar que se le dio valor cero a datos no registrados)"
   ]
  },
  {
   "cell_type": "markdown",
   "metadata": {},
   "source": [
    "5. Filtre los datos válidos y realice un gráfico de *sepalLength* vs *petalLength* categorizados por la etiqueta **species**."
   ]
  },
  {
   "cell_type": "code",
   "execution_count": null,
   "metadata": {},
   "outputs": [],
   "source": [
    "# crear un dataframe que no contenga datos fuera de rango\n",
    "df_final = df_filt[df_filt['label']=='valido'].reset_index(drop=True)\n",
    "df_final.head()"
   ]
  },
  {
   "cell_type": "code",
   "execution_count": null,
   "metadata": {},
   "outputs": [],
   "source": [
    "# se realiza un grafico de dispersión largo pétalos vs largo cépalos\n",
    "palette = sns.color_palette(\"hls\", 4)\n",
    "\n",
    "sns.scatterplot(\n",
    "    x='sepalLength',\n",
    "    y='petalLength',\n",
    "    hue='species',\n",
    "    data=df_final,\n",
    "    ci = None,\n",
    "    palette=palette\n",
    ")\n",
    "c = plt.title(\"Largo de sépalos vs Largo de pétalos (cm)\",size = 16)\n",
    "\n"
   ]
  },
  {
   "cell_type": "code",
   "execution_count": null,
   "metadata": {},
   "outputs": [],
   "source": [
    "#se graficarán también los anchos\n",
    "palette = sns.color_palette(\"hls\", 4)\n",
    "\n",
    "sns.scatterplot(\n",
    "    x='sepalWidth',\n",
    "    y='petalWidth',\n",
    "    hue='species',\n",
    "    data=df_final,\n",
    "    ci = None,\n",
    "    palette=palette\n",
    ")\n",
    "c = plt.title(\"Ancho de sépalos vs Ancho de pétalos (cm)\",size = 16)"
   ]
  },
  {
   "cell_type": "markdown",
   "metadata": {},
   "source": [
    "Ahora se puede observar mas fácilmente que especies presentan cuáles dimensiones. Se podría concluir que la medición a la cual no se le registró la especie (tipo default dado en Pregunta 1) correspondería a la especie Iris Versicolor. Esto se se puede aplicar también a futuros datos de especie desconocida, siendo más fácil discernir si el nuevo dato es setosa que virginica o versicolor."
   ]
  },
  {
   "cell_type": "code",
   "execution_count": null,
   "metadata": {},
   "outputs": [],
   "source": []
  }
 ],
 "metadata": {
  "kernelspec": {
   "display_name": "Python 3",
   "language": "python",
   "name": "python3"
  },
  "language_info": {
   "codemirror_mode": {
    "name": "ipython",
    "version": 3
   },
   "file_extension": ".py",
   "mimetype": "text/x-python",
   "name": "python",
   "nbconvert_exporter": "python",
   "pygments_lexer": "ipython3",
   "version": "3.7.10"
  }
 },
 "nbformat": 4,
 "nbformat_minor": 4
}
