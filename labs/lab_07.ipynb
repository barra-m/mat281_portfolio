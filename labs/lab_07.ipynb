{
 "cells": [
  {
   "cell_type": "markdown",
   "metadata": {},
   "source": [
    "# MAT281 - Laboratorios N°07"
   ]
  },
  {
   "cell_type": "markdown",
   "metadata": {},
   "source": [
    "<a id='p1'></a>\n",
    "## I.- Problema 01\n",
    "\n",
    "\n",
    "<img src=\"https://upload.wikimedia.org/wikipedia/commons/thumb/b/b6/Anscombe.svg/1200px-Anscombe.svg.png\" width=\"360\" height=\"360\" align=\"center\"/>\n",
    "\n"
   ]
  },
  {
   "cell_type": "markdown",
   "metadata": {},
   "source": [
    "El **cuarteto de Anscombe** comprende cuatro conjuntos de datos que tienen las mismas propiedades estadísticas, pero que evidentemente son distintas al inspeccionar sus gráficos respectivos.\n",
    "\n",
    "Cada conjunto consiste de once puntos (x, y) y fueron construidos por el estadístico F. J. Anscombe. El cuarteto es una demostración de la importancia de mirar gráficamente un conjunto de datos antes de analizarlos."
   ]
  },
  {
   "cell_type": "code",
   "execution_count": null,
   "metadata": {},
   "outputs": [],
   "source": [
    "import os\n",
    "import numpy as np\n",
    "import pandas as pd\n",
    "import matplotlib.pyplot as plt\n",
    "import seaborn as sns\n",
    "\n",
    "%matplotlib inline\n",
    "sns.set_palette(\"deep\", desat=.6)\n",
    "sns.set(rc={'figure.figsize':(11.7,8.27)})"
   ]
  },
  {
   "cell_type": "code",
   "execution_count": null,
   "metadata": {},
   "outputs": [],
   "source": [
    "# cargar datos\n",
    "df = pd.read_csv(os.path.join(\"data\",\"anscombe.csv\"), sep=\",\")\n",
    "df.head()"
   ]
  },
  {
   "cell_type": "markdown",
   "metadata": {},
   "source": [
    "Basado en la información presentada responda las siguientes preguntas:\n",
    "\n",
    "1. Gráfique mediante un gráfico tipo **scatter** cada grupo. A simple vista, ¿ los grupos son muy distintos entre si?.\n",
    "2. Realice un resumen de las medidas estadísticas más significativas ocuapando el comando **describe** para cada grupo. Interprete.\n",
    "3. Realice un ajuste lineal para cada grupo. Además, grafique los resultados de la regresión lineal para cada grupo. Interprete.\n",
    "4. Calcule los resultados de las métricas para cada grupo. Interprete.\n",
    "5. Es claro que el ajuste lineal para algunos grupos no es el correcto. Existen varias formas de solucionar este problema (eliminar outliers, otros modelos, etc.). Identifique una estrategia para que el modelo de regresión lineal ajuste de mejor manera e implemente otros modelos en los casos que encuentre necesario.  "
   ]
  },
  {
   "cell_type": "markdown",
   "metadata": {},
   "source": [
    "1. **scatterplot**"
   ]
  },
  {
   "cell_type": "code",
   "execution_count": null,
   "metadata": {},
   "outputs": [],
   "source": [
    "#1\n",
    "str = ['Grupo_1', 'Grupo_2', 'Grupo_3','Grupo_4']\n",
    "grupos = [df.groupby('grupo').get_group(g) for g in str] #dataframes de cada grupo\n",
    "map = lambda n: [int(np.floor(n/2)),int(np.mod(n,2))] #funcion que mapea 0->(0,0) 1->(0,1) 2->(1,0) 3->(1,1)\n",
    "index = [map(i) for i in range(0,4)] #indices para graficar con un solo loop"
   ]
  },
  {
   "cell_type": "code",
   "execution_count": null,
   "metadata": {},
   "outputs": [],
   "source": [
    "fig,ejes = plt.subplots(2,2,figsize=(15,10))\n",
    "for i in range(0,4):\n",
    "    sns.scatterplot(\n",
    "        x = 'x',\n",
    "        y = 'y',\n",
    "        data = grupos[i],\n",
    "        ax = ejes[index[i][0]][index[i][1]],\n",
    "        s=150\n",
    "    )\n",
    "    ejes[index[i][0]][index[i][1]].set_title(f\"Grupo {i+1}\")"
   ]
  },
  {
   "cell_type": "markdown",
   "metadata": {},
   "source": [
    "Revisando las dispersiones de los cuatro grupos, no se parecen entre sí en cuanto a la distribución aparente de los datos."
   ]
  },
  {
   "cell_type": "markdown",
   "metadata": {},
   "source": [
    "2. **describe**"
   ]
  },
  {
   "cell_type": "code",
   "execution_count": null,
   "metadata": {},
   "outputs": [],
   "source": [
    "#2\n",
    "stats = [display(grupos[k].describe().style.set_caption(f'Grupo {k+1}')) for k in range(0,4)]"
   ]
  },
  {
   "cell_type": "markdown",
   "metadata": {},
   "source": [
    "Se observa que los cuatro grupos presentan medias y varianzas muestrales similares entre si, más revisando los percentiles, mínimos y máximos mostrados por **describe()** los datos se distinguen en como estan distribuidos, tal y como se observó visualmente en (1).\n"
   ]
  },
  {
   "cell_type": "markdown",
   "metadata": {},
   "source": [
    "3. **regresion lineal**"
   ]
  },
  {
   "cell_type": "code",
   "execution_count": null,
   "metadata": {},
   "outputs": [],
   "source": [
    "#3\n",
    "#sklearn\n",
    "from sklearn import datasets\n",
    "from sklearn.model_selection import train_test_split\n",
    "\n",
    "metricas = []\n",
    "for i in range(0,4):\n",
    "    X = grupos[i][['x']]\n",
    "    y = grupos[i]['y']\n",
    "    X_train, X_test, y_train, y_test = train_test_split(X, y, test_size=0.1, random_state=42)\n",
    "    \n",
    "    from sklearn.linear_model import LinearRegression\n",
    "    model_rl = LinearRegression()\n",
    "    model_rl.fit(X_train, y_train)\n",
    "    \n",
    "    #lista de coef B para cada X\n",
    "    beta_0 = round(model_rl.intercept_, 2)\n",
    "    beta_1 = round(model_rl.coef_[0],2)\n",
    "    \n",
    "    func = f\"f(x) = {beta_0} ´{beta_1}x\"\n",
    "    \n",
    "    #predicciones\n",
    "    Y_predict = model_rl.predict(X_test)\n",
    "    \n",
    "    #graficos con seaborn\n",
    "    beta_0 = model_rl.intercept_\n",
    "    beta_1 = model_rl.coef_[0]\n",
    "    \n",
    "    x_range = np.arange(0,20,0.1)\n",
    "    \n",
    "    df_plot = pd.DataFrame({'x':x_range,\n",
    "                           'y_true':[beta_0 + beta_1*n for n in x_range]})\n",
    "    \n",
    "    dfa = pd.DataFrame({'x':X['x'],\n",
    "                       'y_true':y})\n",
    "    \n",
    "    fig, ax = plt.subplots(figsize=(10, 8.5))\n",
    "    \n",
    "    aa = sns.scatterplot(x= 'x', y='y_true', data=dfa, ax=ax,s=150)\n",
    "    aa = sns.lineplot(x='x', y='y_true', data=df_plot,ax=ax,color='red')\n",
    "    plt.title(f'Regresión Lineal Grupo {i+1}: {func}', size = 15)\n",
    "    plt.xlabel('x')\n",
    "    plt.ylabel('y')\n",
    "    plt.show()\n",
    "    \n",
    "    #se guardan métricas para imprimir en pregunta 4\n",
    "    from metrics_regression import *\n",
    "    from sklearn.metrics import r2_score\n",
    "    df_temp = pd.DataFrame(\n",
    "        {\n",
    "            'y':y_test,\n",
    "            'yhat':model_rl.predict(X_test)\n",
    "        }\n",
    "    )\n",
    "    \n",
    "    df_metrics = summary_metrics(df_temp)\n",
    "    df_metrics['r2'] = round(r2_score(y_test,model_rl.predict(X_test)),4)\n",
    "    metricas.append(df_metrics)\n",
    "    \n",
    "    "
   ]
  },
  {
   "cell_type": "markdown",
   "metadata": {},
   "source": [
    "De los scatterplot, se observa que la regresión lineal hecha para Grupo 1, podría modelar correctamente los datos, para el resto de los grupos habría que utilizar otro modelo o normalizar datos o realizar otro tipo de técnica."
   ]
  },
  {
   "cell_type": "markdown",
   "metadata": {},
   "source": [
    "4. **metricas**"
   ]
  },
  {
   "cell_type": "code",
   "execution_count": null,
   "metadata": {},
   "outputs": [],
   "source": [
    "#4\n",
    "arr = [print(f'\\nMetricas para el regresor x para Grupo {i+1}:\\n{metricas[i]}') for i in range(0,4)]"
   ]
  },
  {
   "cell_type": "markdown",
   "metadata": {},
   "source": [
    "La única regresión relativamente aceptable sería la realizada en Grupo 1, ya que presenta bajos errores porcentuales y coeficiente $R^2$ cercano a 1. Las demás presentan altos errores porcentuales y $R^2$ negativos, lo que descarta que estén siendo modelados correctamente."
   ]
  },
  {
   "cell_type": "markdown",
   "metadata": {},
   "source": [
    "5. **modelar apropiadamente**"
   ]
  },
  {
   "cell_type": "markdown",
   "metadata": {},
   "source": [
    "*Grupo 3:* Eliminar datos outliers de la muestra y realizar un nuevo ajuste lineal.\n",
    "\n",
    "*Grupo 4:* Eliminando el único outlier, se puede ajustar con la recta $x = 8$ ya que todas las coordenadas $x$ de los datos restantes son iguales.\n",
    "\n",
    "*Grupo 2:* Se podría ajustar mediante un modelo logarítmico.\n",
    "\n",
    "Se realizarán los ajustes para los Grupos 3 y 4."
   ]
  },
  {
   "cell_type": "code",
   "execution_count": null,
   "metadata": {},
   "outputs": [],
   "source": [
    "#5\n",
    "#para grupo 3 eliminar el outlier que se puede ver en (2) que es el dato con valor y máximo\n",
    "group_temp = grupos[2]\n",
    "group_temp = group_temp[group_temp.y != group_temp.y.max()].reset_index(drop=True)\n",
    "display(group_temp)\n",
    "\n",
    "X = group_temp[['x']]\n",
    "y = group_temp['y']\n",
    "X_train, X_test, y_train, y_test = train_test_split(X, y, test_size=0.2, random_state=42)\n",
    "\n",
    "from sklearn.linear_model import LinearRegression\n",
    "model_rl = LinearRegression()\n",
    "model_rl.fit(X_train, y_train)\n",
    "\n",
    "# lista de coeficientes B para cada X\n",
    "beta_0 = round(model_rl.intercept_,2)\n",
    "beta_1 = round(model_rl.coef_[0],2)\n",
    "\n",
    "func = f\"f(x) = {beta_0} + {beta_1}x\"\n",
    "\n",
    "# predicciones\n",
    "Y_predict = model_rl.predict(X_test)\n",
    "\n",
    "# graficos con seaborn\n",
    "beta_0 = model_rl.intercept_\n",
    "beta_1 = model_rl.coef_[0]\n",
    "\n",
    "x_range = np.arange(0,18,0.1)\n",
    "\n",
    "df_plot = pd.DataFrame({'x':x_range,\n",
    "                        'y_true':[beta_0 + beta_1*n for n in x_range]})\n",
    "\n",
    "dfa = pd.DataFrame({'x':X['x'], \n",
    "                    'y_true':y})\n",
    "\n",
    "fig, ax = plt.subplots(figsize=(10, 8.5))\n",
    "\n",
    "aa = sns.scatterplot(x='x', y='y_true', data=dfa, ax=ax, s=150)\n",
    "aa = sns.lineplot(x='x', y='y_true', data=df_plot,ax=ax,color=\"red\")\n",
    "plt.title(f'Regresión Lineal Grupo {i+1}: {func}', size=15)\n",
    "plt.ylabel('y')\n",
    "plt.show()\n",
    "\n",
    "# metricas\n",
    "from metrics_regression import *\n",
    "from sklearn.metrics import r2_score\n",
    "df_temp = pd.DataFrame(\n",
    "    {\n",
    "        'y':y_test,\n",
    "        'yhat': model_rl.predict(X_test)\n",
    "        }\n",
    ")\n",
    "\n",
    "df_metrics = summary_metrics(df_temp)\n",
    "df_metrics['r2'] =  round(r2_score(y_test, model_rl.predict(X_test)),4)\n",
    "print(f'\\nMetricas para el regresor x para Grupo 3:\\n{df_metrics}')"
   ]
  },
  {
   "cell_type": "code",
   "execution_count": null,
   "metadata": {},
   "outputs": [],
   "source": [
    "#para grupo 4 eliminar el outlier que se puede ver en (2) que es el dato con valor \"x\" e \"y\" máximo\n",
    "group_temp = grupos[3]\n",
    "group_temp = group_temp[group_temp.y != group_temp.y.max()].reset_index(drop=True)\n",
    "display(group_temp)\n",
    "\n",
    "\n",
    "fig, ax = plt.subplots(figsize=(10, 8.5))\n",
    "\n",
    "aa = sns.scatterplot(x='x', y='y', data=group_temp, ax=ax, s=150,color=\"red\")\n",
    "plt.axvline(x=8)\n",
    "plt.title(f'Regresión Lineal Grupo 4: x = 8', size=15)\n",
    "plt.show()"
   ]
  },
  {
   "cell_type": "code",
   "execution_count": null,
   "metadata": {},
   "outputs": [],
   "source": []
  }
 ],
 "metadata": {
  "kernelspec": {
   "display_name": "Python 3",
   "language": "python",
   "name": "python3"
  },
  "language_info": {
   "codemirror_mode": {
    "name": "ipython",
    "version": 3
   },
   "file_extension": ".py",
   "mimetype": "text/x-python",
   "name": "python",
   "nbconvert_exporter": "python",
   "pygments_lexer": "ipython3",
   "version": "3.7.10"
  }
 },
 "nbformat": 4,
 "nbformat_minor": 4
}
